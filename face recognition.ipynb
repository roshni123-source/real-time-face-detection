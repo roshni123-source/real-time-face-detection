{
 "cells": [
  {
   "cell_type": "code",
   "execution_count": 9,
   "metadata": {},
   "outputs": [],
   "source": [
    "# import library\n",
    "import os\n",
    "import cv2 as cv\n",
    "# traning data\n",
    "facedata=cv.CascadeClassifier('data/haarcascade_frontalface_default.xml')\n",
    "# video capture\n",
    "video=cv.VideoCapture(1)\n",
    "while True:\n",
    "    r,frame= video.read()\n",
    "# convert it into grayscale\n",
    "gray=cv.cvtColor(frame,cv.COLOR_BGR2GRAY)\n",
    "cv.imshow('gray',gray)\n",
    "# detect multi faces\n",
    "faces=facedata.detectMultiScale(gray,scaleFactor=1.1,minNeighbors=5,minSize=(30, 30),flags=cv2.CASCADE_SCALE_IMAGE)\n",
    "# draw rectangles \n",
    "for (x, y, w, h) in faces:\n",
    "    cv.rectangle(frame,(x,y), (x+w, y+h), (0, 210, 100), 3)\n",
    "# Display the output\n",
    "cv.imshow('video', frame)\n",
    "if cv2.waitKey(1) & 0xFF == ord('q'):\n",
    "        break"
   ]
  },
  {
   "cell_type": "code",
   "execution_count": null,
   "metadata": {},
   "outputs": [],
   "source": []
  }
 ],
 "metadata": {
  "kernelspec": {
   "display_name": "Python 3.9.12 ('base')",
   "language": "python",
   "name": "python3"
  },
  "language_info": {
   "codemirror_mode": {
    "name": "ipython",
    "version": 3
   },
   "file_extension": ".py",
   "mimetype": "text/x-python",
   "name": "python",
   "nbconvert_exporter": "python",
   "pygments_lexer": "ipython3",
   "version": "3.9.12"
  },
  "orig_nbformat": 4,
  "vscode": {
   "interpreter": {
    "hash": "dc07d24e2f18896857f0b2a651fe84ba40ce7b297e58d8804a308c8039f752a6"
   }
  }
 },
 "nbformat": 4,
 "nbformat_minor": 2
}
